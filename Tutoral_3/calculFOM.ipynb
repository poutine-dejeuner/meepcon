{
 "cells": [
  {
   "cell_type": "code",
   "execution_count": 2,
   "metadata": {},
   "outputs": [],
   "source": [
    "import os\n",
    "import tqdm\n",
    "\n",
    "import meep as mp\n",
    "# print(mp.__version__)\n",
    "import meep.adjoint as mpa\n",
    "import numpy as np\n",
    "import autograd.numpy as npa\n",
    "\n",
    "from matplotlib import pyplot as plt\n",
    "from icecream import ic\n",
    "\n",
    "from utils import double_with_mirror, normalise"
   ]
  },
  {
   "cell_type": "markdown",
   "metadata": {},
   "source": [
    "## Basic environment setup"
   ]
  },
  {
   "cell_type": "code",
   "execution_count": 3,
   "metadata": {},
   "outputs": [],
   "source": [
    "pml_size = 1.0 # (μm)"
   ]
  },
  {
   "cell_type": "code",
   "execution_count": 4,
   "metadata": {},
   "outputs": [],
   "source": [
    "dx = 0.02 \n",
    "opt_size_x = 101 * dx\n",
    "opt_size_y = 181 * dx\n",
    "size_x = 2.6 + pml_size # um\n",
    "size_y = 4.5 + pml_size # um\n",
    "# size_x = opt_size_x + 2*0.4\n",
    "# size_y = opt_size_y + 2*0.4\n",
    "out_wg_dist = 1.25\n",
    "wg_width = 0.5\n",
    "mode_width = 3*wg_width\n",
    "wg_index = 2.8\n",
    "bg_index = 1.44\n",
    "wg_zspan = 0.22\n",
    "\n",
    "# opt_xpixel = opt_size_x*(1/dx)\n",
    "# opt_ypixel = opt_size_y*(1/dx)\n",
    "\n",
    "source_wg_xmin = -size_x\n",
    "source_wg_xmax = -opt_size_x/2 + 0.1\n",
    "source_wg_y = 0\n",
    "source_wg_yspan = wg_width\n",
    "source_wg_z = 0\n",
    "source_wg_zspan = wg_zspan\n",
    "\n",
    "top_wg_xmin = opt_size_x/2 - 0.1\n",
    "top_wg_xmax = size_x\n",
    "top_wg_y = out_wg_dist\n",
    "top_wg_yspan = wg_width\n",
    "top_wg_z = 0\n",
    "top_wg_zspan = wg_zspan\n",
    "\n",
    "bot_wg_xmin = top_wg_xmin\n",
    "bot_wg_xmax = top_wg_xmax\n",
    "bot_wg_y = -out_wg_dist\n",
    "bot_wg_yspan = wg_width\n",
    "bot_wg_z = 0\n",
    "bot_wg_zspan = wg_zspan\n",
    "\n",
    "source_x = -size_x/2 - 0.1\n",
    "source_y = 0\n",
    "source_yspan = mode_width\n",
    "source_z = 0\n",
    "source_zspan = 1\n",
    "center_wavelength = 1.550"
   ]
  },
  {
   "cell_type": "code",
   "execution_count": 5,
   "metadata": {},
   "outputs": [],
   "source": [
    "seed = 240\n",
    "np.random.seed(seed)\n",
    "mp.verbosity(0)\n",
    "Si = mp.Medium(index=wg_index) # Effective permittivity for a Silicon waveguide with a thickness of 220nm =2.88\n",
    "SiO2 = mp.Medium(index=bg_index) # =1.44\n",
    "delta = dx #(0.02)*ur.micrometers  size of a pixel (in μm) 20 nm in lumerical exp\n",
    "# resolution = 20 # (pixels/μm)\n",
    "resolution = 1/delta # pixels/μm\n",
    "waveguide_width = wg_width #0.5 # (μm)\n",
    "design_region_width = opt_size_x # (μm)\n",
    "design_region_height = opt_size_y # (μm)\n",
    "arm_separation = out_wg_dist #1.0  (μm) distance between arms center to center\n",
    "waveguide_length = source_wg_xmax - source_wg_xmin #0.5  (μm)\n"
   ]
  },
  {
   "cell_type": "markdown",
   "metadata": {},
   "source": [
    "## Design variable setup"
   ]
  },
  {
   "cell_type": "code",
   "execution_count": 6,
   "metadata": {},
   "outputs": [
    {
     "data": {
      "text/plain": [
       "(101, 181)"
      ]
     },
     "execution_count": 6,
     "metadata": {},
     "output_type": "execute_result"
    }
   ],
   "source": [
    "minimum_length = 0.09 # (μm)\n",
    "eta_e = 0.75\n",
    "filter_radius = mpa.get_conic_radius_from_eta_e(minimum_length,eta_e) # (μm)\n",
    "eta_i = 0.5\n",
    "eta_d = 1-eta_e\n",
    "design_region_resolution = int(resolution) #int(4*resolution) # (pixels/μm)\n",
    "frequencies = 1/np.linspace(1.5,1.6,5) # (1/μm)\n",
    "\n",
    "Nx = int(design_region_resolution*design_region_width)\n",
    "Ny = int(design_region_resolution*design_region_height)\n",
    "\n",
    "design_variables = mp.MaterialGrid(mp.Vector3(Nx,Ny),SiO2,Si)\n",
    "design_region = mpa.DesignRegion(design_variables,\n",
    "    volume=mp.Volume(center=mp.Vector3(), size=mp.Vector3(design_region_width, design_region_height)))\n",
    "\n",
    "Nx, Ny"
   ]
  },
  {
   "cell_type": "markdown",
   "metadata": {},
   "source": [
    "## Simulation Setup"
   ]
  },
  {
   "cell_type": "code",
   "execution_count": 7,
   "metadata": {},
   "outputs": [],
   "source": [
    "Sx = 2*pml_size + size_x # cell size in X\n",
    "Sy = 2*pml_size + size_y # cell size in Y\n",
    "cell_size = mp.Vector3(Sx,Sy)\n",
    "\n",
    "pml_layers = [mp.PML(pml_size)]\n",
    "\n",
    "fcen = 1/center_wavelength #1/1.55\n",
    "width = 0.2\n",
    "fwidth = width * fcen\n",
    "source_center  = [source_x, source_y, source_z]\n",
    "# source_center  = [-Sx/2 + pml_size + waveguide_length/3,0,0]\n",
    "\n",
    "source_size = mp.Vector3(0,source_yspan, 0) #mp.Vector3(0,2,0)\n",
    "kpoint = mp.Vector3(1,0,0)\n",
    "src = mp.GaussianSource(frequency=fcen,fwidth=fwidth)\n",
    "# src = mp.GaussianSource(frequency=fcen)\n",
    "source = [mp.EigenModeSource(src,\n",
    "                            eig_band=1,\n",
    "                            direction=mp.NO_DIRECTION,\n",
    "                            eig_kpoint=kpoint,\n",
    "                            size=source_size,\n",
    "                            center=source_center,\n",
    "                            eig_parity=mp.EVEN_Z+mp.ODD_Y)]\n",
    "mon_pt = mp.Vector3(*source_center)\n",
    "\n",
    "\n",
    "geometry = [\n",
    "    mp.Block(center=mp.Vector3(x=-Sx/4), material=Si, size=mp.Vector3(Sx/2+1, waveguide_width, 0)), # left waveguide\n",
    "    mp.Block(center=mp.Vector3(x=Sx/4, y=arm_separation), material=Si, size=mp.Vector3(Sx/2+1, waveguide_width, 0)), # top right waveguide\n",
    "    mp.Block(center=mp.Vector3(x=Sx/4, y=-arm_separation), material=Si, size=mp.Vector3(Sx/2+1, waveguide_width, 0)), # bottom right waveguide\n",
    "    mp.Block(center=design_region.center, size=design_region.size, material=design_variables)\n",
    "]\n",
    "\n",
    "sim = mp.Simulation(cell_size=cell_size,\n",
    "                    boundary_layers=pml_layers,\n",
    "                    geometry=geometry,\n",
    "                    sources=source,\n",
    "                    #symmetries=[mp.Mirror(direction=mp.Y)],\n",
    "                    default_material=SiO2,\n",
    "                    resolution=resolution)"
   ]
  },
  {
   "cell_type": "markdown",
   "metadata": {},
   "source": [
    "## Design parameter mapping"
   ]
  },
  {
   "cell_type": "code",
   "execution_count": 8,
   "metadata": {},
   "outputs": [],
   "source": [
    "def mapping(x,eta,beta):\n",
    "    # eta in [0,1], skews the distribution towards one material or the other?\n",
    "    # higher beta makes design more binarized\n",
    "    x = (npa.fliplr(x.reshape(Nx,Ny)) + x.reshape(Nx,Ny))/2 # up-down symmetry\n",
    "    # filter\n",
    "    filtered_field = mpa.conic_filter(x,\n",
    "        filter_radius,design_region_width,design_region_height,design_region_resolution)\n",
    "    # projection\n",
    "    projected_field = mpa.tanh_projection(filtered_field,beta,eta)\n",
    "    # interpolate to actual materials\n",
    "    return projected_field.flatten()"
   ]
  },
  {
   "cell_type": "code",
   "execution_count": 9,
   "metadata": {},
   "outputs": [],
   "source": [
    "PATH = os.path.expanduser('~/scratch/nanophoto/lowfom/nodata/fields/')\n",
    "# PATH = os.path.expanduser('~/scratch/nanophoto/highfom/')\n",
    "image_idx = 1\n",
    "image = np.load(os.path.join(PATH, 'images.npy'))[image_idx]\n",
    "idx_map = double_with_mirror(image)\n",
    "idx_map = normalise(idx_map)\n",
    "index_map = mapping(idx_map, 0.5, 256)\n",
    "\n",
    "design_region.update_design_parameters(index_map)"
   ]
  },
  {
   "cell_type": "code",
   "execution_count": 10,
   "metadata": {},
   "outputs": [],
   "source": [
    "# full field monitor\n",
    "size = mp.Vector3(Sx, Sy, 0)\n",
    "dft_monitor = sim.add_dft_fields(\n",
    "    [mp.Ex, mp.Ey, mp.Ez],             # Components to monitor\n",
    "    fcen,0,1,\n",
    "    # frequency=fcen,                     # Operating frequency\n",
    "    center=mp.Vector3(0, 0, 0),        # Center of the monitor region\n",
    "    size=size          # Size of the monitor region\n",
    ")\n",
    "\n",
    "monsize = mp.Vector3(y=3*waveguide_width)\n",
    "source_mon_center = mp.Vector3(x=source_x + 0.1)\n",
    "top_mon_center = mp.Vector3(size_x/2, arm_separation, 0)\n",
    "source_fluxregion = mp.FluxRegion(center=source_mon_center, size=monsize, weight=-1)\n",
    "top_fluxregion = mp.FluxRegion(center=top_mon_center, size=monsize, weight=-1)\n",
    "\n",
    "# flux_box = sim.add_flux(fcen, 0, 1,\n",
    "#                         mp.FluxRegion(center=mp.Vector3(), size=size))\n",
    "\n",
    "sim.run(until_after_sources=100)\n",
    "# sim.run(until_after_sources=mp.stop_when_fields_decayed(50, mp.Ez, mon_pt,\n",
    "#                                                             1e-9))\n",
    "\n",
    "# # Calculate the field magnitude |E| from the DFT field data\n",
    "# field_magnitude = np.sqrt(np.abs(ex_data)**2 + np.abs(ey_data)**2 + np.abs(ez_data)**2)\n",
    "\n",
    "# # Reshape the data for plotting (if necessary)\n",
    "# field_magnitude = field_magnitude.reshape((int(Sx * resolution), int(Sy * resolution)))"
   ]
  },
  {
   "cell_type": "code",
   "execution_count": null,
   "metadata": {},
   "outputs": [
    {
     "data": {
      "text/plain": [
       "<Axes: xlabel='X', ylabel='Y'>"
      ]
     },
     "execution_count": 13,
     "metadata": {},
     "output_type": "execute_result"
    },
    {
     "data": {
      "image/png": "[encoded data removed]",
      "text/plain": [
       "<Figure size 640x480 with 1 Axes>"
      ]
     },
     "metadata": {},
     "output_type": "display_data"
    }
   ],
   "source": [
    "def get_sim_coeffs_from_flux_region(sim, fluxregion):\n",
    "    sim.reset_meep()\n",
    "    flux = sim.add_flux(fcen, 0, 1, fluxregion)\n",
    "    # breakpoint()\n",
    "    mon_pt = mp.Vector3(*source_center)\n",
    "    sim.run(until_after_sources=mp.stop_when_fields_decayed(50, mp.Ez, mon_pt,\n",
    "                                                            1e-9))\n",
    "    res = sim.get_eigenmode_coefficients(flux, [1])#,\n",
    "                                        #  eig_parity=mp.ODD_Z + mp.EVEN_Y)\n",
    "    coeffs = res.alpha\n",
    "    accumulated_flux_spectrum = mp.get_fluxes(flux)\n",
    "    return coeffs, accumulated_flux_spectrum\n",
    "\n",
    "\n",
    "# Get incident flux coefficients\n",
    "# source_center = [-Sx/2 + pml_size + waveguide_length/3, 0, 0]\n",
    "source_mon_pt = mp.Vector3(x=source_x + 0.1)\n",
    "monsize = mp.Vector3(y=3*waveguide_width)\n",
    "source_fluxregion = mp.FluxRegion(center=source_mon_pt, size=monsize)\n",
    "source_coeffs, source_flux_spectrum = get_sim_coeffs_from_flux_region(sim, source_fluxregion)\n",
    "# sim.plot2D()"
   ]
  },
  {
   "cell_type": "code",
   "execution_count": null,
   "metadata": {},
   "outputs": [
    {
     "data": {
      "text/plain": [
       "<Axes: xlabel='X', ylabel='Y'>"
      ]
     },
     "execution_count": 14,
     "metadata": {},
     "output_type": "execute_result"
    },
    {
     "data": {
      "image/png": "[encoded data removed]",
      "text/plain": [
       "<Figure size 640x480 with 1 Axes>"
      ]
     },
     "metadata": {},
     "output_type": "display_data"
    }
   ],
   "source": [
    "# Get top output flux coefficients\n",
    "topmoncenter = mp.Vector3(size_x/2, arm_separation, 0)\n",
    "topfluxregion = mp.FluxRegion(topmoncenter, monsize)\n",
    "top_coeffs, top_flux_spectrum = get_sim_coeffs_from_flux_region(sim, topfluxregion)\n",
    "# sim.plot2D()"
   ]
  },
  {
   "cell_type": "code",
   "execution_count": 17,
   "metadata": {},
   "outputs": [
    {
     "name": "stderr",
     "output_type": "stream",
     "text": [
      "ic| np.abs(top_coeffs): array([[[4.98920167, 0.14266072]]])\n",
      "ic| np.abs(source_coeffs): array([[[7.60586151, 0.74743045]]])\n"
     ]
    },
    {
     "data": {
      "text/plain": [
       "array([[[7.60586151, 0.74743045]]])"
      ]
     },
     "execution_count": 17,
     "metadata": {},
     "output_type": "execute_result"
    }
   ],
   "source": [
    "ic(np.abs(top_coeffs))\n",
    "ic(np.abs(source_coeffs))"
   ]
  },
  {
   "cell_type": "code",
   "execution_count": 18,
   "metadata": {},
   "outputs": [
    {
     "data": {
      "text/plain": [
       "0.0003518131032669443"
      ]
     },
     "execution_count": 18,
     "metadata": {},
     "output_type": "execute_result"
    }
   ],
   "source": [
    "np.abs(top_coeffs[0,0,1])**2/np.abs(source_coeffs[0,0,0])**2"
   ]
  },
  {
   "cell_type": "code",
   "execution_count": 32,
   "metadata": {},
   "outputs": [
    {
     "data": {
      "text/plain": [
       "0.4302940000714251"
      ]
     },
     "execution_count": 32,
     "metadata": {},
     "output_type": "execute_result"
    }
   ],
   "source": [
    "np.abs(top_coeffs[0,0,0])**2/np.abs(source_coeffs[0,0,0])**2"
   ]
  },
  {
   "cell_type": "code",
   "execution_count": 19,
   "metadata": {},
   "outputs": [
    {
     "data": {
      "text/plain": [
       "0.4574306974788323"
      ]
     },
     "execution_count": 19,
     "metadata": {},
     "output_type": "execute_result"
    }
   ],
   "source": [
    "FOM2 = (top_flux_spectrum[0])/source_flux_spectrum[0] \n",
    "FOM2"
   ]
  },
  {
   "cell_type": "code",
   "execution_count": 20,
   "metadata": {},
   "outputs": [
    {
     "data": {
      "text/plain": [
       "0.42187603818409114"
      ]
     },
     "execution_count": 20,
     "metadata": {},
     "output_type": "execute_result"
    }
   ],
   "source": [
    "np.load(os.path.join(PATH, 'fom.npy'))[image_idx]"
   ]
  }
 ],
 "metadata": {
  "kernelspec": {
   "display_name": "photo",
   "language": "python",
   "name": "python3"
  },
  "language_info": {
   "codemirror_mode": {
    "name": "ipython",
    "version": 3
   },
   "file_extension": ".py",
   "mimetype": "text/x-python",
   "name": "python",
   "nbconvert_exporter": "python",
   "pygments_lexer": "ipython3",
   "version": "3.11.11"
  }
 },
 "nbformat": 4,
 "nbformat_minor": 4
}
